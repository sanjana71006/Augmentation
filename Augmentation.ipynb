{
  "nbformat": 4,
  "nbformat_minor": 0,
  "metadata": {
    "colab": {
      "private_outputs": true,
      "provenance": []
    },
    "kernelspec": {
      "name": "python3",
      "display_name": "Python 3"
    },
    "language_info": {
      "name": "python"
    }
  },
  "cells": [
    {
      "cell_type": "markdown",
      "source": [
        "AUGMENTATION OF AN IMAGE"
      ],
      "metadata": {
        "id": "6MdhzwDNg7Xl"
      }
    },
    {
      "cell_type": "code",
      "execution_count": null,
      "metadata": {
        "id": "Xj79dI5Ia2F6"
      },
      "outputs": [],
      "source": [
        "from matplotlib import pyplot as plt\n",
        "import numpy as np\n",
        "from tensorflow.keras.preprocessing.image import ImageDataGenerator, load_img,img_to_array"
      ]
    },
    {
      "cell_type": "code",
      "source": [
        "img_path = '/content/shihtzu.jpg'\n",
        "img = load_img(img_path)"
      ],
      "metadata": {
        "id": "5hQ_Mj_tbz17"
      },
      "execution_count": null,
      "outputs": []
    },
    {
      "cell_type": "code",
      "source": [
        "img_array = img_to_array(img)"
      ],
      "metadata": {
        "id": "miuJcC4Ddjj7"
      },
      "execution_count": null,
      "outputs": []
    },
    {
      "cell_type": "code",
      "source": [
        "img_array = img_array.reshape((1,) + img_array.shape)"
      ],
      "metadata": {
        "id": "ji9n-LUucrFU"
      },
      "execution_count": null,
      "outputs": []
    },
    {
      "cell_type": "code",
      "source": [
        "datagen=ImageDataGenerator(\n",
        "    rescale=1./255,\n",
        "    rotation_range=20,\n",
        "    width_shift_range=0.2,\n",
        "    height_shift_range=0.2,\n",
        "    shear_range=0.2,\n",
        "    zoom_range=0.2,\n",
        "    horizontal_flip=True,\n",
        "    fill_mode='nearest'\n",
        ")"
      ],
      "metadata": {
        "id": "3mt08zAmb7ag"
      },
      "execution_count": null,
      "outputs": []
    },
    {
      "cell_type": "code",
      "source": [
        "augmented_images = datagen.flow(img_array,batch_size=1)"
      ],
      "metadata": {
        "id": "3KdxN4FZcEYs"
      },
      "execution_count": null,
      "outputs": []
    },
    {
      "cell_type": "code",
      "source": [
        "def visualize_augmented_images(generator,num_images):\n",
        "  fig,axes=plt.subplots(1,num_images,figsize=(20,20))\n",
        "  for i in range(num_images):\n",
        "    batch=next(generator)\n",
        "    aug_image=batch[0]\n",
        "    axes[i].imshow(aug_image)\n",
        "    axes[i].axis('off')\n",
        "  plt.show()"
      ],
      "metadata": {
        "id": "nACWz6rMcarD"
      },
      "execution_count": null,
      "outputs": []
    },
    {
      "cell_type": "code",
      "source": [
        "visualize_augmented_images(augmented_images,10)"
      ],
      "metadata": {
        "id": "iW3GLr-LfYxo"
      },
      "execution_count": null,
      "outputs": []
    },
    {
      "cell_type": "markdown",
      "source": [
        "INPUT AND OUTPUT (IN DIFF COLUMNS)"
      ],
      "metadata": {
        "id": "_AsBMkbagTVK"
      }
    },
    {
      "cell_type": "code",
      "source": [
        "from matplotlib import pyplot as plt\n",
        "import numpy as np\n",
        "from tensorflow.keras.preprocessing.image import ImageDataGenerator, load_img, img_to_array\n",
        "\n",
        "# Load the original image\n",
        "img_path = '/content/shihtzu.jpg'\n",
        "img = load_img(img_path)\n",
        "img_array = img_to_array(img)\n",
        "\n",
        "# Reshape for ImageDataGenerator\n",
        "img_array = img_array.reshape((1,) + img_array.shape)\n",
        "\n",
        "# Data augmentation configuration\n",
        "datagen = ImageDataGenerator(\n",
        "    rescale=1./255,\n",
        "    rotation_range=20,\n",
        "    width_shift_range=0.2,\n",
        "    height_shift_range=0.2,\n",
        "    shear_range=0.2,\n",
        "    zoom_range=0.2,\n",
        "    horizontal_flip=True,\n",
        "    fill_mode='nearest'\n",
        ")\n",
        "\n",
        "# Generate augmented images\n",
        "augmented_images = datagen.flow(img_array, batch_size=1)\n",
        "\n",
        "# Function to display the original and augmented images side by side\n",
        "def visualize_original_and_augmented(original_img, generator, num_images):\n",
        "    fig, axes = plt.subplots(num_images, 2, figsize=(8, 4 * num_images))\n",
        "\n",
        "    # Ensure original is rescaled like augmented images\n",
        "    original_rescaled = np.array(original_img) / 255.0\n",
        "\n",
        "    for i in range(num_images):\n",
        "        aug_batch = next(generator)\n",
        "        aug_image = aug_batch[0]\n",
        "\n",
        "        # Column 0: Original image\n",
        "        axes[i, 0].imshow(original_rescaled)\n",
        "        axes[i, 0].set_title(\"Original Image\")\n",
        "        axes[i, 0].axis('off')\n",
        "\n",
        "        # Column 1: Augmented image\n",
        "        axes[i, 1].imshow(aug_image)\n",
        "        axes[i, 1].set_title(f\"Augmented Image {i+1}\")\n",
        "        axes[i, 1].axis('off')\n",
        "\n",
        "    plt.tight_layout()\n",
        "    plt.show()\n",
        "\n",
        "visualize_original_and_augmented(img, augmented_images, 10)\n"
      ],
      "metadata": {
        "id": "1AKXdEUofdAS"
      },
      "execution_count": null,
      "outputs": []
    }
  ]
}